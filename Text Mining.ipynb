{
 "cells": [
  {
   "cell_type": "markdown",
   "id": "aea0d590-4621-482f-a2c3-bca7829c47fa",
   "metadata": {},
   "source": [
    "### Introduction\n",
    "* The given requirement is to prepare a collection of text documents for use within a sentiment analysis algorithm.\n",
    "* The given dataset is comprised of 1000 positive and 1000 negative movie reviews in the form of text documents for each movie review.  \n",
    "The steps we follow to address the given problem are:  \n",
    "* Extract the content from 2000 text documents\n",
    "* Apply pre-processing techniques to strip out punctuation, stop words and “tokenize” the data.  \n",
    "* Construct the term-document matrix with proper labelling.\n",
    "* Preparing a pandas dataframe from the above term-document matrix to make it ready for use within a classification model."
   ]
  },
  {
   "cell_type": "markdown",
   "id": "66bcc1a9-4d2a-40a8-8689-92d71f85450f",
   "metadata": {},
   "source": [
    "### Data Preparation"
   ]
  },
  {
   "cell_type": "markdown",
   "id": "11e13b90-2fa7-4a19-92e4-c5ff14c742d6",
   "metadata": {},
   "source": [
    "* Load the directories **pos** and **neg** each containing 1000 movie reviews in the form of .txt files into GitHub repository.\n",
    "* After loading the positive and negative movie review directories to github repository, in order to read the files present in these directories we perform web scraping techinque by downloading the page using a **GET** request on the github url https://github.com/NNikhil89/TextMining/tree/main/pos and https://github.com/NNikhil89/TextMining/tree/main/neg  \n",
    "* Once we get the response from the above url we parse it using html parser. \n",
    "* In the parsed response we can find that the movie review file names are present under a script tag with attribute key as **data-target** and its respective value is **react-app.embeddedData**.\n",
    "* The contents inside this specific script tag are present in json format, therefore we parse the text under script tag to json format and read the filenames present under the **items** section present in the parsed json.\n",
    "* Then iterate through each file name in the items section, and for each iteration we form the github url by appending the file name to the url https://raw.githubusercontent.com/NNikhil89/TextMining/main/ so that when we do a **GET** request on this url we get the contents of the file. This process is performed for all the files present in both positive and negative directories.\n",
    "* Add the contents of both positive review files and negative review files in a list named as **combinedMovieReviews** and mark their respective review labels as **Positive** and **Negative**. \n",
    "* Save the review labels in list named as **combinedMovieLabels**.\n",
    "* After creating the above two lists with one containing movie reviews and the other with review labels, perform the process of tokenization for each of the movie review by performing necessary pre-processing techniques such as striping out punctuation and numbers by using **RegexpTokenizer** from nltk.tokenize library and by removing stop words by using importing **stopwords** from nltk.corpus library, **tokenize** the data, etc. \n",
    "* We have created the function **funcToTokenizeWords** which handles the tokenizing operation.\n",
    "* Save the tokens formed after processing the movie reviews in a set **lstofwordtokens** so that the tokens remain unique as they are used to form the columns for the term-document matrix.\n",
    "* Construct **term_document_matrix** with number of rows as the number of movie review files which includes both positive and negative reviews.\n",
    "* The row count for the term-document matrix is 2000, and the number of columns of the term-document matrix is the number of elements in the set **lstofwordtokens**. \n",
    "* By default all the elements of the term-document matrix are intialized with zero.\n",
    "* Update the frequency of occurence of tokens in the term-document matrix using below steps:  \n",
    " 1.Iterate over each movie review from combinedMovieReviews list  \n",
    " 2.Convert the movie review into tokens by applying the pre-processing techniques defined in the method **funcToTokenizeWords**  \n",
    " 3.Foreach token present in the movie review, we find the number of occurences of the token in the respective movie review and update its count in the term-document-matrix, by considering the row index of the matrix as the index of the respective movie review from the **combinedMovieReviews** list.\n",
    " \n",
    "* After updating the frequency count for all the tokens in term-document matrix we convert the term-document matrix to a pandas dataframe and add a new column **Movie Review** to this dataframe which indicates whether each given movie review is **Positive** or **Negative**."
   ]
  },
  {
   "cell_type": "markdown",
   "id": "1f04da28-731f-4021-af7a-3f86581522ce",
   "metadata": {},
   "source": [
    "#### Importing libraries"
   ]
  },
  {
   "cell_type": "code",
   "execution_count": 144,
   "id": "b1545e04-6478-49a7-bf62-9d40efc9534a",
   "metadata": {},
   "outputs": [],
   "source": [
    "import json\n",
    "import nltk\n",
    "from nltk.tokenize import RegexpTokenizer\n",
    "from nltk.corpus import stopwords\n",
    "import string\n",
    "import requests\n",
    "from bs4 import BeautifulSoup\n",
    "import pandas as pd\n",
    "import numpy as np\n",
    "import matplotlib.pyplot as plt\n",
    "from random import shuffle\n",
    "from sklearn.model_selection import train_test_split\n",
    "import warnings\n",
    "warnings.filterwarnings('ignore')"
   ]
  },
  {
   "cell_type": "markdown",
   "id": "a5d61a70-76f8-4bec-91f9-ef2a29df3b42",
   "metadata": {},
   "source": [
    "#### Defining movieReviewsExtractor method which performs web scraping"
   ]
  },
  {
   "cell_type": "code",
   "execution_count": 145,
   "id": "e1036467-b36a-4cf5-8a2e-80f14c1421c2",
   "metadata": {},
   "outputs": [],
   "source": [
    "def movieReviewsExtractor(directoryPath, rawFilePath, reviewLabel):\n",
    "    ''' this function performs web scraping techinque by downloading the page \n",
    "    using a GET request on the github url present in the parameter directoryPath.\n",
    "    Once we get the response from the above url we parse it using html parser.\n",
    "    From the parsed response we extract the movie review file names present under a script tag \n",
    "    with attribute key as data-target and its respective value is react-app.embeddedData.    \n",
    "    Then iterate through each file name in the items section of the script tag, \n",
    "    and for each iteration we form the github url by appending the file name to the url present in parameter rawFilePath.\n",
    "    Then save all the contents of moviereview and its labels in two lists.'''\n",
    "    \n",
    "    movieReviews = [] # list to store moview reviews\n",
    "    reviewLabels = [] # list to store moview review labels\n",
    "    \n",
    "    response = requests.get(directoryPath)\n",
    "    soup = BeautifulSoup(response.content, 'html.parser')\n",
    "    scriptTagWithFileNames = soup.find_all('script', attrs={'data-target': 'react-app.embeddedData'})\n",
    "\n",
    "    for script in scriptTagWithFileNames:\n",
    "        jsonText = json.loads(script.text)\n",
    "        jsonItemsSection = jsonText['payload']['tree']['items']\n",
    "        \n",
    "        for index, item  in enumerate(jsonItemsSection):            \n",
    "            filePath = item['path']\n",
    "            rawFileUrl = rawFilePath + filePath\n",
    "            fileResponse = requests.get(rawFileUrl)\n",
    "            filetext = fileResponse.text\n",
    "            movieReviews.append(filetext)\n",
    "            reviewLabels.append(reviewLabel)\n",
    "                                                                        \n",
    "    return movieReviews, reviewLabels"
   ]
  },
  {
   "cell_type": "markdown",
   "id": "c6f99da0-6f19-47c4-ae8d-4ec94d266d09",
   "metadata": {},
   "source": [
    "#### Assigning github repository urls in order to extract positive movie reviews"
   ]
  },
  {
   "cell_type": "code",
   "execution_count": 146,
   "id": "2c934cdb-413b-4541-a91c-c5296f806582",
   "metadata": {},
   "outputs": [],
   "source": [
    "positiveReviewDirectory = 'https://github.com/NNikhil89/TextMining/tree/main/pos' #Directory path for Positive movie review\n",
    "movieReviewsFilePath = 'https://raw.githubusercontent.com/NNikhil89/TextMining/main/' #file format for each movie review\n",
    "positiveLabel = 'Positive' #Positive movie review label\n",
    "#calling movieReviewsExtractor to extract positive movie reviews\n",
    "positiveMovieReviews, positiveLabels = movieReviewsExtractor(positiveReviewDirectory, movieReviewsFilePath, positiveLabel)"
   ]
  },
  {
   "cell_type": "code",
   "execution_count": 126,
   "id": "2c01e6ce-e0bb-4b39-beee-6ef02cf538ff",
   "metadata": {},
   "outputs": [
    {
     "data": {
      "text/plain": [
       "1000"
      ]
     },
     "execution_count": 126,
     "metadata": {},
     "output_type": "execute_result"
    }
   ],
   "source": [
    "len(positiveMovieReviews)"
   ]
  },
  {
   "cell_type": "markdown",
   "id": "154c9c53-7114-419f-b2cb-0d1d81945de2",
   "metadata": {},
   "source": [
    "#### Assigning github repository urls in order to extract positive movie reviews"
   ]
  },
  {
   "cell_type": "code",
   "execution_count": 47,
   "id": "f758b5b1-f803-435e-91e6-a2fd0b11a482",
   "metadata": {},
   "outputs": [],
   "source": [
    "negativeReviewDirectory = 'https://github.com/NNikhil89/TextMining/tree/main/neg' #Directory path for Negative movie review\n",
    "movieReviewsFilePath = 'https://raw.githubusercontent.com/NNikhil89/TextMining/main/' #file format for each movie review\n",
    "negativeLabel = 'Negative' #Negative movie review label\n",
    "#calling movieReviewsExtractor to extract negative movie reviews\n",
    "negativeMovieReviews, negativeLabels = movieReviewsExtractor(positiveReviewDirectory, filePathPositiveMovie, negativeLabel)"
   ]
  },
  {
   "cell_type": "code",
   "execution_count": 49,
   "id": "5887c18b-54fe-45ff-b056-12c6b034218c",
   "metadata": {},
   "outputs": [
    {
     "data": {
      "text/plain": [
       "1000"
      ]
     },
     "execution_count": 49,
     "metadata": {},
     "output_type": "execute_result"
    }
   ],
   "source": [
    "len(negativeMovieReviews)"
   ]
  },
  {
   "cell_type": "markdown",
   "id": "e0bd4aba-18da-4562-a504-241e885b1358",
   "metadata": {},
   "source": [
    "#### Combining both positiveMovieReviews and negativeMovieReviews to form the list combinedMovieReviews"
   ]
  },
  {
   "cell_type": "code",
   "execution_count": 60,
   "id": "0e3ca3f4-7526-4d85-8925-78a384519eef",
   "metadata": {},
   "outputs": [],
   "source": [
    "combinedMovieReviews = positiveMovieReviews+negativeMovieReviews"
   ]
  },
  {
   "cell_type": "code",
   "execution_count": 127,
   "id": "217c7daa-db8a-49fa-b8c7-07fe634cc34b",
   "metadata": {},
   "outputs": [
    {
     "data": {
      "text/plain": [
       "2000"
      ]
     },
     "execution_count": 127,
     "metadata": {},
     "output_type": "execute_result"
    }
   ],
   "source": [
    "len(combinedMovieReviews)"
   ]
  },
  {
   "cell_type": "markdown",
   "id": "22265211-e72c-48f9-8764-2d49b6953638",
   "metadata": {},
   "source": [
    "#### Combining both positiveLabels and negativeLabels to form the list combinedMovieLabels"
   ]
  },
  {
   "cell_type": "code",
   "execution_count": 72,
   "id": "12a22011-bc61-4b58-8826-c676615cc5b8",
   "metadata": {},
   "outputs": [],
   "source": [
    "combinedMovieLabels = positiveLabels + negativeLabels"
   ]
  },
  {
   "cell_type": "code",
   "execution_count": 73,
   "id": "04956a6c-17f7-4b21-9c6b-2e5774ff790d",
   "metadata": {},
   "outputs": [
    {
     "data": {
      "text/plain": [
       "2000"
      ]
     },
     "execution_count": 73,
     "metadata": {},
     "output_type": "execute_result"
    }
   ],
   "source": [
    "len(combinedMovieLabels)"
   ]
  },
  {
   "cell_type": "markdown",
   "id": "a8d1e2e9-20eb-4134-9bfa-58944a74c006",
   "metadata": {},
   "source": [
    "#### Initializing tokenizer and en_stops"
   ]
  },
  {
   "cell_type": "code",
   "execution_count": 128,
   "id": "fe1a5b88-9bb3-49b0-bd4f-fcd6d2da08c0",
   "metadata": {},
   "outputs": [],
   "source": [
    "tokenizer = RegexpTokenizer(r'[a-zA-Z]+')\n",
    "en_stops = set(stopwords.words('english'))"
   ]
  },
  {
   "cell_type": "markdown",
   "id": "0359fec1-e903-4228-9227-634bbc1e87f9",
   "metadata": {},
   "source": [
    "#### Defining function funcToTokenizeWords to tokenize the movie review"
   ]
  },
  {
   "cell_type": "code",
   "execution_count": 52,
   "id": "40dfd282-e6ce-419e-87ad-a3ac9b6b3e17",
   "metadata": {},
   "outputs": [],
   "source": [
    "def funcToTokenizeWords(movieReview):\n",
    "    ''' this function removes English language stop words + punctuation from \n",
    "    the given movie review and then creates a list using the remaining words.'''\n",
    "    \n",
    "    words_clean = [] #list to store tokenized words   \n",
    "    tokenizedWords = tokenizer.tokenize(movieReview) #in-built method to tokenize the text   \n",
    "\n",
    "    # iterate through each word in the list\n",
    "    for word in tokenizedWords:\n",
    "        # convert all characters to lowercase for consistency\n",
    "        word = word.lower()\n",
    "\n",
    "        # if the word is not a stop word and is not a punctuation character add it to clean word list\n",
    "        # note that the list 'en_stops' was defined above in the section discussing stopwords        \n",
    "        if word not in en_stops and word not in string.punctuation:\n",
    "            words_clean.append(word)        \n",
    "    \n",
    "    return words_clean"
   ]
  },
  {
   "cell_type": "markdown",
   "id": "c7923192-fb9f-44ed-94aa-9dd636f9a1e2",
   "metadata": {},
   "source": [
    "* Calling the method funcToTokenizeWords for all the movie reviews and storing them in set lstofwordtokens"
   ]
  },
  {
   "cell_type": "code",
   "execution_count": 61,
   "id": "91a21443-3f27-416c-ade9-3998fcdc6715",
   "metadata": {},
   "outputs": [],
   "source": [
    "\n",
    "lstofwordtokens = set() # set to store the tokens for all the movie reviews\n",
    "#calling the function funcToTokenizeWords\n",
    "lstofwordtokens = sorted(set().union(*(funcToTokenizeWords(movieReview) for movieReview in combinedMovieReviews)))"
   ]
  },
  {
   "cell_type": "code",
   "execution_count": 129,
   "id": "14d16fff-1e5d-444c-8bf6-dbe4b638c65c",
   "metadata": {},
   "outputs": [
    {
     "data": {
      "text/plain": [
       "38760"
      ]
     },
     "execution_count": 129,
     "metadata": {},
     "output_type": "execute_result"
    }
   ],
   "source": [
    "len(lstofwordtokens)"
   ]
  },
  {
   "cell_type": "markdown",
   "id": "39c76c9c-ab39-4e2a-a468-3c5ef441feb1",
   "metadata": {},
   "source": [
    "#### Creating term-document-matrix"
   ]
  },
  {
   "cell_type": "markdown",
   "id": "02b2364f-e33a-4951-8476-df2310aa17ab",
   "metadata": {},
   "source": [
    "* There are total of 38760 unique tokens formed after performing pre-processing and then tokenizing the 2000 movie reviews.\n",
    "* These tokens are sorted in alphabetical order and stored in a set, form the columns of term-matrix-document matrix.\n",
    "* Therefore the number of columns in term-document-matrix will be 38760\n",
    "* The number of rows in term-document-matrix will be total number of movie reviews which is 2000\n",
    "* Using these inferences we can create the term-document-matrix with all elements initialized to 0 using below code "
   ]
  },
  {
   "cell_type": "code",
   "execution_count": 64,
   "id": "0c922cd0-730e-4209-9bce-354bb11d6f57",
   "metadata": {},
   "outputs": [],
   "source": [
    "term_document_matrix = [[0] * len(lstofwordtokens) for _ in range(len(combinedMovieReviews))]"
   ]
  },
  {
   "cell_type": "markdown",
   "id": "a8f61228-6671-4bad-9a06-1eb5b0674e9e",
   "metadata": {},
   "source": [
    "#### Updating term_document_matrix with frequency counts of tokens"
   ]
  },
  {
   "cell_type": "code",
   "execution_count": null,
   "id": "9f741294-5f48-42de-89de-110207e9d017",
   "metadata": {},
   "outputs": [],
   "source": [
    "for i, movieReview in enumerate(combinedMovieReviews): #enumerating on combinedMovieReviews list\n",
    "    lstTokenizedWords = funcToTokenizeWords(movieReview) # calling funcToTokenizeWords for each movie review\n",
    "    \n",
    "    for tokenizedWord in lstTokenizedWords: # iterating over each token of the given movie review\n",
    "        if tokenizedWord in lstofwordtokens: # checking if the token is present in the set of unique  tokens\n",
    "            term_document_matrix[i][lstofwordtokens.index(tokenizedWord)] += 1 #updating the token's count in for the given review in the term-document matrix"
   ]
  },
  {
   "cell_type": "markdown",
   "id": "d07ed4c6-9d00-4a09-bd33-beaadae8ea0c",
   "metadata": {},
   "source": [
    "#### Creating DataFrame from term_document_matrix"
   ]
  },
  {
   "cell_type": "code",
   "execution_count": 76,
   "id": "ba08aa81-9c1d-4f44-be4d-1ae32a53ed11",
   "metadata": {},
   "outputs": [
    {
     "data": {
      "text/html": [
       "<div>\n",
       "<style scoped>\n",
       "    .dataframe tbody tr th:only-of-type {\n",
       "        vertical-align: middle;\n",
       "    }\n",
       "\n",
       "    .dataframe tbody tr th {\n",
       "        vertical-align: top;\n",
       "    }\n",
       "\n",
       "    .dataframe thead th {\n",
       "        text-align: right;\n",
       "    }\n",
       "</style>\n",
       "<table border=\"1\" class=\"dataframe\">\n",
       "  <thead>\n",
       "    <tr style=\"text-align: right;\">\n",
       "      <th></th>\n",
       "      <th>aa</th>\n",
       "      <th>aaa</th>\n",
       "      <th>aaaaaaaaah</th>\n",
       "      <th>aaaaaaaahhhh</th>\n",
       "      <th>aaaaaah</th>\n",
       "      <th>aaaahhhs</th>\n",
       "      <th>aahs</th>\n",
       "      <th>aaliyah</th>\n",
       "      <th>aalyah</th>\n",
       "      <th>aamir</th>\n",
       "      <th>...</th>\n",
       "      <th>zulu</th>\n",
       "      <th>zundel</th>\n",
       "      <th>zurg</th>\n",
       "      <th>zus</th>\n",
       "      <th>zweibel</th>\n",
       "      <th>zwick</th>\n",
       "      <th>zwigoff</th>\n",
       "      <th>zycie</th>\n",
       "      <th>zzzzzzz</th>\n",
       "      <th>Movie Review</th>\n",
       "    </tr>\n",
       "  </thead>\n",
       "  <tbody>\n",
       "    <tr>\n",
       "      <th>0</th>\n",
       "      <td>0</td>\n",
       "      <td>0</td>\n",
       "      <td>0</td>\n",
       "      <td>0</td>\n",
       "      <td>0</td>\n",
       "      <td>0</td>\n",
       "      <td>0</td>\n",
       "      <td>0</td>\n",
       "      <td>0</td>\n",
       "      <td>0</td>\n",
       "      <td>...</td>\n",
       "      <td>0</td>\n",
       "      <td>0</td>\n",
       "      <td>0</td>\n",
       "      <td>0</td>\n",
       "      <td>0</td>\n",
       "      <td>0</td>\n",
       "      <td>0</td>\n",
       "      <td>0</td>\n",
       "      <td>0</td>\n",
       "      <td>Positive</td>\n",
       "    </tr>\n",
       "    <tr>\n",
       "      <th>1</th>\n",
       "      <td>0</td>\n",
       "      <td>0</td>\n",
       "      <td>0</td>\n",
       "      <td>0</td>\n",
       "      <td>0</td>\n",
       "      <td>0</td>\n",
       "      <td>0</td>\n",
       "      <td>0</td>\n",
       "      <td>0</td>\n",
       "      <td>0</td>\n",
       "      <td>...</td>\n",
       "      <td>0</td>\n",
       "      <td>0</td>\n",
       "      <td>0</td>\n",
       "      <td>0</td>\n",
       "      <td>0</td>\n",
       "      <td>0</td>\n",
       "      <td>0</td>\n",
       "      <td>0</td>\n",
       "      <td>0</td>\n",
       "      <td>Positive</td>\n",
       "    </tr>\n",
       "    <tr>\n",
       "      <th>2</th>\n",
       "      <td>0</td>\n",
       "      <td>0</td>\n",
       "      <td>0</td>\n",
       "      <td>0</td>\n",
       "      <td>0</td>\n",
       "      <td>0</td>\n",
       "      <td>0</td>\n",
       "      <td>0</td>\n",
       "      <td>0</td>\n",
       "      <td>0</td>\n",
       "      <td>...</td>\n",
       "      <td>0</td>\n",
       "      <td>0</td>\n",
       "      <td>0</td>\n",
       "      <td>0</td>\n",
       "      <td>0</td>\n",
       "      <td>0</td>\n",
       "      <td>0</td>\n",
       "      <td>0</td>\n",
       "      <td>0</td>\n",
       "      <td>Positive</td>\n",
       "    </tr>\n",
       "    <tr>\n",
       "      <th>3</th>\n",
       "      <td>0</td>\n",
       "      <td>0</td>\n",
       "      <td>0</td>\n",
       "      <td>0</td>\n",
       "      <td>0</td>\n",
       "      <td>0</td>\n",
       "      <td>0</td>\n",
       "      <td>0</td>\n",
       "      <td>0</td>\n",
       "      <td>0</td>\n",
       "      <td>...</td>\n",
       "      <td>0</td>\n",
       "      <td>0</td>\n",
       "      <td>0</td>\n",
       "      <td>0</td>\n",
       "      <td>0</td>\n",
       "      <td>0</td>\n",
       "      <td>0</td>\n",
       "      <td>0</td>\n",
       "      <td>0</td>\n",
       "      <td>Positive</td>\n",
       "    </tr>\n",
       "    <tr>\n",
       "      <th>4</th>\n",
       "      <td>0</td>\n",
       "      <td>0</td>\n",
       "      <td>0</td>\n",
       "      <td>0</td>\n",
       "      <td>0</td>\n",
       "      <td>0</td>\n",
       "      <td>0</td>\n",
       "      <td>0</td>\n",
       "      <td>0</td>\n",
       "      <td>0</td>\n",
       "      <td>...</td>\n",
       "      <td>0</td>\n",
       "      <td>0</td>\n",
       "      <td>0</td>\n",
       "      <td>0</td>\n",
       "      <td>0</td>\n",
       "      <td>0</td>\n",
       "      <td>0</td>\n",
       "      <td>0</td>\n",
       "      <td>0</td>\n",
       "      <td>Positive</td>\n",
       "    </tr>\n",
       "  </tbody>\n",
       "</table>\n",
       "<p>5 rows × 38761 columns</p>\n",
       "</div>"
      ],
      "text/plain": [
       "   aa  aaa  aaaaaaaaah  aaaaaaaahhhh  aaaaaah  aaaahhhs  aahs  aaliyah  \\\n",
       "0   0    0           0             0        0         0     0        0   \n",
       "1   0    0           0             0        0         0     0        0   \n",
       "2   0    0           0             0        0         0     0        0   \n",
       "3   0    0           0             0        0         0     0        0   \n",
       "4   0    0           0             0        0         0     0        0   \n",
       "\n",
       "   aalyah  aamir  ...  zulu  zundel  zurg  zus  zweibel  zwick  zwigoff  \\\n",
       "0       0      0  ...     0       0     0    0        0      0        0   \n",
       "1       0      0  ...     0       0     0    0        0      0        0   \n",
       "2       0      0  ...     0       0     0    0        0      0        0   \n",
       "3       0      0  ...     0       0     0    0        0      0        0   \n",
       "4       0      0  ...     0       0     0    0        0      0        0   \n",
       "\n",
       "   zycie  zzzzzzz  Movie Review  \n",
       "0      0        0      Positive  \n",
       "1      0        0      Positive  \n",
       "2      0        0      Positive  \n",
       "3      0        0      Positive  \n",
       "4      0        0      Positive  \n",
       "\n",
       "[5 rows x 38761 columns]"
      ]
     },
     "execution_count": 76,
     "metadata": {},
     "output_type": "execute_result"
    }
   ],
   "source": [
    "term_document_df = pd.DataFrame(term_document_matrix, columns=lstofwordtokens)\n",
    "term_document_df['Movie Review'] = combinedMovieLabels  # Add a column for labels\n",
    "term_document_df.head()"
   ]
  },
  {
   "cell_type": "markdown",
   "id": "35cf5d61-0a98-4a4e-bb07-5a135cc5a1c2",
   "metadata": {},
   "source": [
    "#### Creating Numpy array"
   ]
  },
  {
   "cell_type": "markdown",
   "id": "a8c1e312-c215-4897-8ea6-9b4b0efae0c2",
   "metadata": {},
   "source": [
    "* Converting pandas dataframe consisting of frequency counts of tokens to numpy array using to_numpy method.\n",
    "* When converting the dataframe to numpy array, we exclude the last column from dataframe which is Movie Review column consisting of review labels"
   ]
  },
  {
   "cell_type": "code",
   "execution_count": 77,
   "id": "13b8182d-925b-49e6-a795-a75c87700d9a",
   "metadata": {},
   "outputs": [],
   "source": [
    "term_doc_np_array = term_document_df.iloc[:, :-1].to_numpy()"
   ]
  },
  {
   "cell_type": "code",
   "execution_count": 78,
   "id": "328be243-fb57-4c76-bd92-fc2ea9e9dd80",
   "metadata": {},
   "outputs": [
    {
     "data": {
      "text/plain": [
       "array([[0, 0, 0, ..., 0, 0, 0],\n",
       "       [0, 0, 0, ..., 0, 0, 0],\n",
       "       [0, 0, 0, ..., 0, 0, 0],\n",
       "       ...,\n",
       "       [0, 0, 0, ..., 0, 0, 0],\n",
       "       [0, 0, 0, ..., 0, 0, 0],\n",
       "       [0, 0, 0, ..., 0, 0, 0]], dtype=int64)"
      ]
     },
     "execution_count": 78,
     "metadata": {},
     "output_type": "execute_result"
    }
   ],
   "source": [
    "term_doc_np_array"
   ]
  },
  {
   "cell_type": "markdown",
   "id": "1bb3cac0-298c-4eeb-a3ed-942c31721087",
   "metadata": {},
   "source": [
    "#### Calculating Sparsity"
   ]
  },
  {
   "cell_type": "markdown",
   "id": "13afb836-0e52-4828-baab-d7ee597b81ee",
   "metadata": {},
   "source": [
    "* We calculate the sparsity of term-document-matrix using the numpy array **term_doc_np_array** that was created in the above cell\n",
    "* For calculating sparsity, consider the size property of numpy array which gives us the total number of entries in the numpy array\n",
    "* Calculate the total number of zero entries in the numpy array using **count_nonzero** function by passing the parameter which signifies the **term_doc_np_array** where all the array elements are 0\n",
    "* Then sparsity is calculated as percentage of total number of zero entries divided by total number of entries in the numpy array"
   ]
  },
  {
   "cell_type": "code",
   "execution_count": 80,
   "id": "b025e7a3-58f7-43cc-bbdc-b32d82823c85",
   "metadata": {},
   "outputs": [
    {
     "name": "stdout",
     "output_type": "stream",
     "text": [
      "The sparsity of the term-document matrix is: 99.31%\n"
     ]
    }
   ],
   "source": [
    "totalEntriesCount = term_doc_np_array.size\n",
    "\n",
    "# Calculate the count of zero entries in the matrix\n",
    "zero_entry_records = np.count_nonzero(term_doc_np_array == 0)\n",
    "\n",
    "# Calculate the sparsity of the matrix (percentage of zero entries)\n",
    "sparsity = (zero_entry_records / totalEntriesCount) * 100\n",
    "\n",
    "# Print the sparsity percentage\n",
    "print(f\"The sparsity of the term-document matrix is: {sparsity:.2f}%\")"
   ]
  },
  {
   "cell_type": "markdown",
   "id": "69b4fc1b-a4bf-4ea5-a4e3-27679d027ec0",
   "metadata": {},
   "source": [
    "#### Frequency Distribution plot for top 30 words in positive reviews"
   ]
  },
  {
   "cell_type": "markdown",
   "id": "58391bec-ed9b-4f7f-b335-7fe15129ed83",
   "metadata": {},
   "source": [
    "To plot the frequency distribution for the 30 words which occur most frequently in the positive reviews we use the below steps:  \n",
    "* Filter the dataframe **term_document_df** with Positive movie reviews\n",
    "* Excluding the last column **Movie Review** from the above filtered dataframe, calculate the sum of frequency counts for each column by summing all the rows. \n",
    "* This creates a pandas series which lists all the columns along with their sum of frequency counts.\n",
    "* Sort the pandas series in descending order and pick the top 30 rows which gives the top 30 frequently occuring words from the list of positive reviews. \n",
    "* Plot a frequency distribution for the top 30 words as shown below."
   ]
  },
  {
   "cell_type": "code",
   "execution_count": 132,
   "id": "dde07102-6714-4149-9768-fd9d4f7659b8",
   "metadata": {},
   "outputs": [
    {
     "data": {
      "image/png": "[encoded data removed]",
      "text/plain": [
       "<Figure size 1000x500 with 1 Axes>"
      ]
     },
     "metadata": {},
     "output_type": "display_data"
    }
   ],
   "source": [
    "positive_movies_df = term_document_df[term_document_df['Movie Review'] == 'Positive'] #Filtering the term_document_df with Positive movie reviews\n",
    "\n",
    "posreview_words_freq = positive_movies_df.iloc[:, :-1].sum(axis=0)  #Exclude the 'Movie Review' column and sum along rows\n",
    "\n",
    "sorted_poswords = posreview_words_freq.sort_values(ascending=False) # Sort the column frequnecies in descending order\n",
    "\n",
    "top_positive_words = sorted_poswords.head(30) #Select the top 30 words\n",
    "\n",
    "plt.figure(figsize=(10, 5))\n",
    "top_positive_words.plot(marker='o', linestyle='-')  # 'o' for points, '-' for lines\n",
    "\n",
    "# Setting the ticks on the x-axis to show each index\n",
    "plt.xticks(range(len(top_positive_words)), top_positive_words.index, rotation=90) \n",
    "plt.title('Top 30 Most Frequent Words in Positive Reviews')\n",
    "plt.xlabel('Words')\n",
    "plt.ylabel('Frequency count')\n",
    "plt.show()"
   ]
  },
  {
   "cell_type": "markdown",
   "id": "211c7c6c-5eb1-489d-abe6-ad31547841e8",
   "metadata": {},
   "source": [
    "From the above frequency distribution plot for the top 30 words in positive reviews, we can infer the below:  \n",
    "* Words having positive tone repeat frequently in the positive movie reviews\n",
    "* Words such as like, good, well, best and great indicates positivity and they occur most frequently in the postive movie reviews.\n",
    "* This indicates customers using these words and other related words in a positive tone when they like a movie.\n",
    "* Our classification model can use these kind of words to label it as a positive when revewing a new comment posted by the customer."
   ]
  },
  {
   "cell_type": "markdown",
   "id": "d93e3bf0-2f03-414b-b1aa-053ba514946b",
   "metadata": {},
   "source": [
    "#### Frequency Distribution plot for top 30 words in negative reviews"
   ]
  },
  {
   "cell_type": "markdown",
   "id": "d2238172-1464-4f84-8701-afb317a5e400",
   "metadata": {},
   "source": [
    "To plot the frequency distribution for the 30 words which occur most frequently in the negative reviews we use the below steps:  \n",
    "* Filter the dataframe **term_document_df** with Negative movie reviews.\n",
    "* Excluding the last column **Movie Review** from the above filtered dataframe, calculate the sum of frequency counts for each column by summing all the rows.\n",
    "* This creates a pandas series which lists all the columns along with their sum of frequency counts.\n",
    "* Sort the pandas series in descending order and pick the top 30 rows which gives the top 30 frequently occuring words from the list of negative reviews. \n",
    "* Plot a frequency distribution for the top 30 words as shown below."
   ]
  },
  {
   "cell_type": "code",
   "execution_count": 133,
   "id": "ec59a662-d56f-4bc1-8c5c-d3087d961bab",
   "metadata": {},
   "outputs": [
    {
     "data": {
      "image/png": "[encoded data removed]",
      "text/plain": [
       "<Figure size 1000x500 with 1 Axes>"
      ]
     },
     "metadata": {},
     "output_type": "display_data"
    }
   ],
   "source": [
    "negative_movies_df = term_document_df[term_document_df['Movie Review'] == 'Negative'] #Filtering the term_document_df with Negative movie reviews\n",
    "\n",
    "negreview_words_freq = negative_movies_df.iloc[:, :-1].sum(axis=0)  #Exclude the 'Movie Review' column and sum along rows\n",
    "\n",
    "sorted_negwords = negreview_words_freq.sort_values(ascending=False) # Sort the column frequnecies in descending order\n",
    "\n",
    "top_negative_words = sorted_negwords.head(30) #Select the top 30 words\n",
    "\n",
    "plt.figure(figsize=(10, 5))\n",
    "top_negative_words.plot(marker='o', linestyle='-')  # 'o' for points, '-' for lines\n",
    "\n",
    "# Setting the ticks on the x-axis to show each index\n",
    "plt.xticks(range(len(top_negative_words)), top_negative_words.index, rotation=90) \n",
    "plt.title('Top 30 Most Frequent Words in Negative Reviews')\n",
    "plt.xlabel('Words')\n",
    "plt.ylabel('Frequency count')\n",
    "plt.show()"
   ]
  },
  {
   "cell_type": "markdown",
   "id": "a0a5e3a6-f87e-4929-8640-a06d1e813b91",
   "metadata": {},
   "source": [
    "From the above frequency distribution plot for the top 30 words in negative reviews, we can infer the below:  \n",
    "* Words having negativity repeat frequently in the negative movie reviews\n",
    "* Words such as bad, could, little and never indicates negative tone and they occur most frequently in the negative movie reviews.\n",
    "* This indicates customers using these words and other related words in a negative tone when they dislike a movie.\n",
    "* Our classification model can use these kind of words to label it as a negative when revewing a new comment posted by the customer."
   ]
  },
  {
   "cell_type": "markdown",
   "id": "16fe8af5-ada7-4a85-8a64-cdd4f9de7d83",
   "metadata": {},
   "source": [
    "#### Splitting Dataframe to Training and Test"
   ]
  },
  {
   "cell_type": "markdown",
   "id": "e53c9dac-fe9b-4c66-a128-0fd629cabdea",
   "metadata": {},
   "source": [
    "* We use the **train_test_split** method from sklearn.model_selection library inorder to randomly sample vectors to training and test datasets.\n",
    "* Here we pass the dataframe **term_document_df** as an input to train_test_split and pass test_size as 0.25 which splits the input dataframe to 75% of training dataset and 25% of test dataset.\n",
    "* we have set random_state=42 to ensure reproducibility of the split."
   ]
  },
  {
   "cell_type": "code",
   "execution_count": 137,
   "id": "53d3b5c7-7fa7-4315-8cfa-02911e14eabe",
   "metadata": {},
   "outputs": [
    {
     "name": "stdout",
     "output_type": "stream",
     "text": [
      "Number of documents in training subset: 1500\n",
      "Number of documents in testing subset: 500\n"
     ]
    }
   ],
   "source": [
    "# Split the data into training (75%) and testing (25%) subsets\n",
    "df_train, df_test = train_test_split(term_document_df, test_size=0.25, random_state=42)\n",
    "\n",
    "# Display the number of documents in training and testing subsets\n",
    "print(\"Number of documents in training subset:\", len(df_train))\n",
    "print(\"Number of documents in testing subset:\", len(df_test))\n",
    "\n"
   ]
  },
  {
   "cell_type": "markdown",
   "id": "56f0ed00-eca3-4943-976a-2cbd1215fbae",
   "metadata": {},
   "source": [
    "* Top 10 rows from training dataset"
   ]
  },
  {
   "cell_type": "code",
   "execution_count": 141,
   "id": "665cacc1-6c5b-4e46-bd96-5f24621c779d",
   "metadata": {},
   "outputs": [
    {
     "data": {
      "text/html": [
       "<div>\n",
       "<style scoped>\n",
       "    .dataframe tbody tr th:only-of-type {\n",
       "        vertical-align: middle;\n",
       "    }\n",
       "\n",
       "    .dataframe tbody tr th {\n",
       "        vertical-align: top;\n",
       "    }\n",
       "\n",
       "    .dataframe thead th {\n",
       "        text-align: right;\n",
       "    }\n",
       "</style>\n",
       "<table border=\"1\" class=\"dataframe\">\n",
       "  <thead>\n",
       "    <tr style=\"text-align: right;\">\n",
       "      <th></th>\n",
       "      <th>aa</th>\n",
       "      <th>aaa</th>\n",
       "      <th>aaaaaaaaah</th>\n",
       "      <th>aaaaaaaahhhh</th>\n",
       "      <th>aaaaaah</th>\n",
       "      <th>aaaahhhs</th>\n",
       "      <th>aahs</th>\n",
       "      <th>aaliyah</th>\n",
       "      <th>aalyah</th>\n",
       "      <th>aamir</th>\n",
       "      <th>...</th>\n",
       "      <th>zulu</th>\n",
       "      <th>zundel</th>\n",
       "      <th>zurg</th>\n",
       "      <th>zus</th>\n",
       "      <th>zweibel</th>\n",
       "      <th>zwick</th>\n",
       "      <th>zwigoff</th>\n",
       "      <th>zycie</th>\n",
       "      <th>zzzzzzz</th>\n",
       "      <th>Movie Review</th>\n",
       "    </tr>\n",
       "  </thead>\n",
       "  <tbody>\n",
       "    <tr>\n",
       "      <th>1738</th>\n",
       "      <td>0</td>\n",
       "      <td>0</td>\n",
       "      <td>0</td>\n",
       "      <td>0</td>\n",
       "      <td>0</td>\n",
       "      <td>0</td>\n",
       "      <td>0</td>\n",
       "      <td>0</td>\n",
       "      <td>0</td>\n",
       "      <td>0</td>\n",
       "      <td>...</td>\n",
       "      <td>0</td>\n",
       "      <td>0</td>\n",
       "      <td>0</td>\n",
       "      <td>0</td>\n",
       "      <td>0</td>\n",
       "      <td>0</td>\n",
       "      <td>0</td>\n",
       "      <td>0</td>\n",
       "      <td>0</td>\n",
       "      <td>Negative</td>\n",
       "    </tr>\n",
       "    <tr>\n",
       "      <th>548</th>\n",
       "      <td>0</td>\n",
       "      <td>0</td>\n",
       "      <td>0</td>\n",
       "      <td>0</td>\n",
       "      <td>0</td>\n",
       "      <td>0</td>\n",
       "      <td>0</td>\n",
       "      <td>0</td>\n",
       "      <td>0</td>\n",
       "      <td>0</td>\n",
       "      <td>...</td>\n",
       "      <td>0</td>\n",
       "      <td>0</td>\n",
       "      <td>0</td>\n",
       "      <td>0</td>\n",
       "      <td>0</td>\n",
       "      <td>0</td>\n",
       "      <td>0</td>\n",
       "      <td>0</td>\n",
       "      <td>0</td>\n",
       "      <td>Positive</td>\n",
       "    </tr>\n",
       "    <tr>\n",
       "      <th>936</th>\n",
       "      <td>0</td>\n",
       "      <td>0</td>\n",
       "      <td>0</td>\n",
       "      <td>0</td>\n",
       "      <td>0</td>\n",
       "      <td>0</td>\n",
       "      <td>0</td>\n",
       "      <td>0</td>\n",
       "      <td>0</td>\n",
       "      <td>0</td>\n",
       "      <td>...</td>\n",
       "      <td>0</td>\n",
       "      <td>0</td>\n",
       "      <td>0</td>\n",
       "      <td>0</td>\n",
       "      <td>0</td>\n",
       "      <td>0</td>\n",
       "      <td>0</td>\n",
       "      <td>0</td>\n",
       "      <td>0</td>\n",
       "      <td>Positive</td>\n",
       "    </tr>\n",
       "    <tr>\n",
       "      <th>1389</th>\n",
       "      <td>0</td>\n",
       "      <td>0</td>\n",
       "      <td>0</td>\n",
       "      <td>0</td>\n",
       "      <td>0</td>\n",
       "      <td>0</td>\n",
       "      <td>0</td>\n",
       "      <td>0</td>\n",
       "      <td>0</td>\n",
       "      <td>0</td>\n",
       "      <td>...</td>\n",
       "      <td>0</td>\n",
       "      <td>0</td>\n",
       "      <td>0</td>\n",
       "      <td>0</td>\n",
       "      <td>0</td>\n",
       "      <td>0</td>\n",
       "      <td>0</td>\n",
       "      <td>0</td>\n",
       "      <td>0</td>\n",
       "      <td>Negative</td>\n",
       "    </tr>\n",
       "    <tr>\n",
       "      <th>1607</th>\n",
       "      <td>0</td>\n",
       "      <td>0</td>\n",
       "      <td>0</td>\n",
       "      <td>0</td>\n",
       "      <td>0</td>\n",
       "      <td>0</td>\n",
       "      <td>0</td>\n",
       "      <td>0</td>\n",
       "      <td>0</td>\n",
       "      <td>0</td>\n",
       "      <td>...</td>\n",
       "      <td>0</td>\n",
       "      <td>0</td>\n",
       "      <td>0</td>\n",
       "      <td>0</td>\n",
       "      <td>0</td>\n",
       "      <td>0</td>\n",
       "      <td>0</td>\n",
       "      <td>0</td>\n",
       "      <td>0</td>\n",
       "      <td>Negative</td>\n",
       "    </tr>\n",
       "    <tr>\n",
       "      <th>1939</th>\n",
       "      <td>0</td>\n",
       "      <td>0</td>\n",
       "      <td>0</td>\n",
       "      <td>0</td>\n",
       "      <td>0</td>\n",
       "      <td>0</td>\n",
       "      <td>0</td>\n",
       "      <td>0</td>\n",
       "      <td>0</td>\n",
       "      <td>0</td>\n",
       "      <td>...</td>\n",
       "      <td>0</td>\n",
       "      <td>0</td>\n",
       "      <td>0</td>\n",
       "      <td>0</td>\n",
       "      <td>0</td>\n",
       "      <td>0</td>\n",
       "      <td>0</td>\n",
       "      <td>0</td>\n",
       "      <td>0</td>\n",
       "      <td>Negative</td>\n",
       "    </tr>\n",
       "    <tr>\n",
       "      <th>1481</th>\n",
       "      <td>0</td>\n",
       "      <td>0</td>\n",
       "      <td>0</td>\n",
       "      <td>0</td>\n",
       "      <td>0</td>\n",
       "      <td>0</td>\n",
       "      <td>0</td>\n",
       "      <td>0</td>\n",
       "      <td>0</td>\n",
       "      <td>0</td>\n",
       "      <td>...</td>\n",
       "      <td>0</td>\n",
       "      <td>0</td>\n",
       "      <td>0</td>\n",
       "      <td>0</td>\n",
       "      <td>0</td>\n",
       "      <td>0</td>\n",
       "      <td>0</td>\n",
       "      <td>0</td>\n",
       "      <td>0</td>\n",
       "      <td>Negative</td>\n",
       "    </tr>\n",
       "    <tr>\n",
       "      <th>182</th>\n",
       "      <td>0</td>\n",
       "      <td>0</td>\n",
       "      <td>0</td>\n",
       "      <td>0</td>\n",
       "      <td>0</td>\n",
       "      <td>0</td>\n",
       "      <td>0</td>\n",
       "      <td>0</td>\n",
       "      <td>0</td>\n",
       "      <td>0</td>\n",
       "      <td>...</td>\n",
       "      <td>0</td>\n",
       "      <td>0</td>\n",
       "      <td>0</td>\n",
       "      <td>0</td>\n",
       "      <td>0</td>\n",
       "      <td>0</td>\n",
       "      <td>0</td>\n",
       "      <td>0</td>\n",
       "      <td>0</td>\n",
       "      <td>Positive</td>\n",
       "    </tr>\n",
       "    <tr>\n",
       "      <th>1940</th>\n",
       "      <td>0</td>\n",
       "      <td>0</td>\n",
       "      <td>0</td>\n",
       "      <td>0</td>\n",
       "      <td>0</td>\n",
       "      <td>0</td>\n",
       "      <td>0</td>\n",
       "      <td>0</td>\n",
       "      <td>0</td>\n",
       "      <td>0</td>\n",
       "      <td>...</td>\n",
       "      <td>0</td>\n",
       "      <td>0</td>\n",
       "      <td>0</td>\n",
       "      <td>0</td>\n",
       "      <td>0</td>\n",
       "      <td>0</td>\n",
       "      <td>0</td>\n",
       "      <td>0</td>\n",
       "      <td>0</td>\n",
       "      <td>Negative</td>\n",
       "    </tr>\n",
       "    <tr>\n",
       "      <th>1160</th>\n",
       "      <td>0</td>\n",
       "      <td>0</td>\n",
       "      <td>0</td>\n",
       "      <td>0</td>\n",
       "      <td>0</td>\n",
       "      <td>0</td>\n",
       "      <td>0</td>\n",
       "      <td>0</td>\n",
       "      <td>0</td>\n",
       "      <td>0</td>\n",
       "      <td>...</td>\n",
       "      <td>0</td>\n",
       "      <td>0</td>\n",
       "      <td>0</td>\n",
       "      <td>0</td>\n",
       "      <td>0</td>\n",
       "      <td>0</td>\n",
       "      <td>0</td>\n",
       "      <td>0</td>\n",
       "      <td>0</td>\n",
       "      <td>Negative</td>\n",
       "    </tr>\n",
       "  </tbody>\n",
       "</table>\n",
       "<p>10 rows × 38761 columns</p>\n",
       "</div>"
      ],
      "text/plain": [
       "      aa  aaa  aaaaaaaaah  aaaaaaaahhhh  aaaaaah  aaaahhhs  aahs  aaliyah  \\\n",
       "1738   0    0           0             0        0         0     0        0   \n",
       "548    0    0           0             0        0         0     0        0   \n",
       "936    0    0           0             0        0         0     0        0   \n",
       "1389   0    0           0             0        0         0     0        0   \n",
       "1607   0    0           0             0        0         0     0        0   \n",
       "1939   0    0           0             0        0         0     0        0   \n",
       "1481   0    0           0             0        0         0     0        0   \n",
       "182    0    0           0             0        0         0     0        0   \n",
       "1940   0    0           0             0        0         0     0        0   \n",
       "1160   0    0           0             0        0         0     0        0   \n",
       "\n",
       "      aalyah  aamir  ...  zulu  zundel  zurg  zus  zweibel  zwick  zwigoff  \\\n",
       "1738       0      0  ...     0       0     0    0        0      0        0   \n",
       "548        0      0  ...     0       0     0    0        0      0        0   \n",
       "936        0      0  ...     0       0     0    0        0      0        0   \n",
       "1389       0      0  ...     0       0     0    0        0      0        0   \n",
       "1607       0      0  ...     0       0     0    0        0      0        0   \n",
       "1939       0      0  ...     0       0     0    0        0      0        0   \n",
       "1481       0      0  ...     0       0     0    0        0      0        0   \n",
       "182        0      0  ...     0       0     0    0        0      0        0   \n",
       "1940       0      0  ...     0       0     0    0        0      0        0   \n",
       "1160       0      0  ...     0       0     0    0        0      0        0   \n",
       "\n",
       "      zycie  zzzzzzz  Movie Review  \n",
       "1738      0        0      Negative  \n",
       "548       0        0      Positive  \n",
       "936       0        0      Positive  \n",
       "1389      0        0      Negative  \n",
       "1607      0        0      Negative  \n",
       "1939      0        0      Negative  \n",
       "1481      0        0      Negative  \n",
       "182       0        0      Positive  \n",
       "1940      0        0      Negative  \n",
       "1160      0        0      Negative  \n",
       "\n",
       "[10 rows x 38761 columns]"
      ]
     },
     "execution_count": 141,
     "metadata": {},
     "output_type": "execute_result"
    }
   ],
   "source": [
    "df_train.head(10)"
   ]
  },
  {
   "cell_type": "markdown",
   "id": "5e283efb-c3f5-4e72-bdbd-4b5852e39924",
   "metadata": {},
   "source": [
    "* Top 10 rows from test dataset"
   ]
  },
  {
   "cell_type": "code",
   "execution_count": 140,
   "id": "d6ef2d2d-896f-4e4e-96d4-00005bf9aca5",
   "metadata": {},
   "outputs": [
    {
     "data": {
      "text/html": [
       "<div>\n",
       "<style scoped>\n",
       "    .dataframe tbody tr th:only-of-type {\n",
       "        vertical-align: middle;\n",
       "    }\n",
       "\n",
       "    .dataframe tbody tr th {\n",
       "        vertical-align: top;\n",
       "    }\n",
       "\n",
       "    .dataframe thead th {\n",
       "        text-align: right;\n",
       "    }\n",
       "</style>\n",
       "<table border=\"1\" class=\"dataframe\">\n",
       "  <thead>\n",
       "    <tr style=\"text-align: right;\">\n",
       "      <th></th>\n",
       "      <th>aa</th>\n",
       "      <th>aaa</th>\n",
       "      <th>aaaaaaaaah</th>\n",
       "      <th>aaaaaaaahhhh</th>\n",
       "      <th>aaaaaah</th>\n",
       "      <th>aaaahhhs</th>\n",
       "      <th>aahs</th>\n",
       "      <th>aaliyah</th>\n",
       "      <th>aalyah</th>\n",
       "      <th>aamir</th>\n",
       "      <th>...</th>\n",
       "      <th>zulu</th>\n",
       "      <th>zundel</th>\n",
       "      <th>zurg</th>\n",
       "      <th>zus</th>\n",
       "      <th>zweibel</th>\n",
       "      <th>zwick</th>\n",
       "      <th>zwigoff</th>\n",
       "      <th>zycie</th>\n",
       "      <th>zzzzzzz</th>\n",
       "      <th>Movie Review</th>\n",
       "    </tr>\n",
       "  </thead>\n",
       "  <tbody>\n",
       "    <tr>\n",
       "      <th>1860</th>\n",
       "      <td>0</td>\n",
       "      <td>0</td>\n",
       "      <td>0</td>\n",
       "      <td>0</td>\n",
       "      <td>0</td>\n",
       "      <td>0</td>\n",
       "      <td>0</td>\n",
       "      <td>0</td>\n",
       "      <td>0</td>\n",
       "      <td>0</td>\n",
       "      <td>...</td>\n",
       "      <td>0</td>\n",
       "      <td>0</td>\n",
       "      <td>0</td>\n",
       "      <td>0</td>\n",
       "      <td>0</td>\n",
       "      <td>0</td>\n",
       "      <td>0</td>\n",
       "      <td>0</td>\n",
       "      <td>0</td>\n",
       "      <td>Negative</td>\n",
       "    </tr>\n",
       "    <tr>\n",
       "      <th>353</th>\n",
       "      <td>0</td>\n",
       "      <td>0</td>\n",
       "      <td>0</td>\n",
       "      <td>0</td>\n",
       "      <td>0</td>\n",
       "      <td>0</td>\n",
       "      <td>0</td>\n",
       "      <td>0</td>\n",
       "      <td>0</td>\n",
       "      <td>0</td>\n",
       "      <td>...</td>\n",
       "      <td>0</td>\n",
       "      <td>0</td>\n",
       "      <td>0</td>\n",
       "      <td>0</td>\n",
       "      <td>0</td>\n",
       "      <td>0</td>\n",
       "      <td>0</td>\n",
       "      <td>0</td>\n",
       "      <td>0</td>\n",
       "      <td>Positive</td>\n",
       "    </tr>\n",
       "    <tr>\n",
       "      <th>1333</th>\n",
       "      <td>0</td>\n",
       "      <td>0</td>\n",
       "      <td>0</td>\n",
       "      <td>0</td>\n",
       "      <td>0</td>\n",
       "      <td>0</td>\n",
       "      <td>0</td>\n",
       "      <td>0</td>\n",
       "      <td>0</td>\n",
       "      <td>0</td>\n",
       "      <td>...</td>\n",
       "      <td>0</td>\n",
       "      <td>0</td>\n",
       "      <td>0</td>\n",
       "      <td>0</td>\n",
       "      <td>0</td>\n",
       "      <td>0</td>\n",
       "      <td>0</td>\n",
       "      <td>0</td>\n",
       "      <td>0</td>\n",
       "      <td>Negative</td>\n",
       "    </tr>\n",
       "    <tr>\n",
       "      <th>905</th>\n",
       "      <td>0</td>\n",
       "      <td>0</td>\n",
       "      <td>0</td>\n",
       "      <td>0</td>\n",
       "      <td>0</td>\n",
       "      <td>0</td>\n",
       "      <td>0</td>\n",
       "      <td>0</td>\n",
       "      <td>0</td>\n",
       "      <td>0</td>\n",
       "      <td>...</td>\n",
       "      <td>0</td>\n",
       "      <td>0</td>\n",
       "      <td>0</td>\n",
       "      <td>0</td>\n",
       "      <td>0</td>\n",
       "      <td>0</td>\n",
       "      <td>0</td>\n",
       "      <td>0</td>\n",
       "      <td>0</td>\n",
       "      <td>Positive</td>\n",
       "    </tr>\n",
       "    <tr>\n",
       "      <th>1289</th>\n",
       "      <td>0</td>\n",
       "      <td>0</td>\n",
       "      <td>0</td>\n",
       "      <td>0</td>\n",
       "      <td>0</td>\n",
       "      <td>0</td>\n",
       "      <td>0</td>\n",
       "      <td>0</td>\n",
       "      <td>0</td>\n",
       "      <td>0</td>\n",
       "      <td>...</td>\n",
       "      <td>0</td>\n",
       "      <td>0</td>\n",
       "      <td>0</td>\n",
       "      <td>0</td>\n",
       "      <td>0</td>\n",
       "      <td>0</td>\n",
       "      <td>0</td>\n",
       "      <td>0</td>\n",
       "      <td>0</td>\n",
       "      <td>Negative</td>\n",
       "    </tr>\n",
       "    <tr>\n",
       "      <th>1273</th>\n",
       "      <td>0</td>\n",
       "      <td>0</td>\n",
       "      <td>0</td>\n",
       "      <td>0</td>\n",
       "      <td>0</td>\n",
       "      <td>0</td>\n",
       "      <td>0</td>\n",
       "      <td>0</td>\n",
       "      <td>0</td>\n",
       "      <td>0</td>\n",
       "      <td>...</td>\n",
       "      <td>0</td>\n",
       "      <td>0</td>\n",
       "      <td>0</td>\n",
       "      <td>0</td>\n",
       "      <td>0</td>\n",
       "      <td>0</td>\n",
       "      <td>0</td>\n",
       "      <td>0</td>\n",
       "      <td>0</td>\n",
       "      <td>Negative</td>\n",
       "    </tr>\n",
       "    <tr>\n",
       "      <th>938</th>\n",
       "      <td>0</td>\n",
       "      <td>0</td>\n",
       "      <td>0</td>\n",
       "      <td>0</td>\n",
       "      <td>0</td>\n",
       "      <td>0</td>\n",
       "      <td>0</td>\n",
       "      <td>0</td>\n",
       "      <td>0</td>\n",
       "      <td>0</td>\n",
       "      <td>...</td>\n",
       "      <td>0</td>\n",
       "      <td>0</td>\n",
       "      <td>0</td>\n",
       "      <td>0</td>\n",
       "      <td>0</td>\n",
       "      <td>0</td>\n",
       "      <td>0</td>\n",
       "      <td>0</td>\n",
       "      <td>0</td>\n",
       "      <td>Positive</td>\n",
       "    </tr>\n",
       "    <tr>\n",
       "      <th>1731</th>\n",
       "      <td>0</td>\n",
       "      <td>0</td>\n",
       "      <td>0</td>\n",
       "      <td>0</td>\n",
       "      <td>0</td>\n",
       "      <td>0</td>\n",
       "      <td>0</td>\n",
       "      <td>0</td>\n",
       "      <td>0</td>\n",
       "      <td>0</td>\n",
       "      <td>...</td>\n",
       "      <td>0</td>\n",
       "      <td>0</td>\n",
       "      <td>0</td>\n",
       "      <td>0</td>\n",
       "      <td>0</td>\n",
       "      <td>0</td>\n",
       "      <td>0</td>\n",
       "      <td>0</td>\n",
       "      <td>0</td>\n",
       "      <td>Negative</td>\n",
       "    </tr>\n",
       "    <tr>\n",
       "      <th>65</th>\n",
       "      <td>0</td>\n",
       "      <td>0</td>\n",
       "      <td>0</td>\n",
       "      <td>0</td>\n",
       "      <td>0</td>\n",
       "      <td>0</td>\n",
       "      <td>0</td>\n",
       "      <td>0</td>\n",
       "      <td>0</td>\n",
       "      <td>0</td>\n",
       "      <td>...</td>\n",
       "      <td>0</td>\n",
       "      <td>0</td>\n",
       "      <td>0</td>\n",
       "      <td>0</td>\n",
       "      <td>0</td>\n",
       "      <td>0</td>\n",
       "      <td>0</td>\n",
       "      <td>0</td>\n",
       "      <td>0</td>\n",
       "      <td>Positive</td>\n",
       "    </tr>\n",
       "    <tr>\n",
       "      <th>1323</th>\n",
       "      <td>0</td>\n",
       "      <td>0</td>\n",
       "      <td>0</td>\n",
       "      <td>0</td>\n",
       "      <td>0</td>\n",
       "      <td>0</td>\n",
       "      <td>0</td>\n",
       "      <td>0</td>\n",
       "      <td>0</td>\n",
       "      <td>0</td>\n",
       "      <td>...</td>\n",
       "      <td>0</td>\n",
       "      <td>0</td>\n",
       "      <td>0</td>\n",
       "      <td>0</td>\n",
       "      <td>0</td>\n",
       "      <td>0</td>\n",
       "      <td>0</td>\n",
       "      <td>0</td>\n",
       "      <td>0</td>\n",
       "      <td>Negative</td>\n",
       "    </tr>\n",
       "  </tbody>\n",
       "</table>\n",
       "<p>10 rows × 38761 columns</p>\n",
       "</div>"
      ],
      "text/plain": [
       "      aa  aaa  aaaaaaaaah  aaaaaaaahhhh  aaaaaah  aaaahhhs  aahs  aaliyah  \\\n",
       "1860   0    0           0             0        0         0     0        0   \n",
       "353    0    0           0             0        0         0     0        0   \n",
       "1333   0    0           0             0        0         0     0        0   \n",
       "905    0    0           0             0        0         0     0        0   \n",
       "1289   0    0           0             0        0         0     0        0   \n",
       "1273   0    0           0             0        0         0     0        0   \n",
       "938    0    0           0             0        0         0     0        0   \n",
       "1731   0    0           0             0        0         0     0        0   \n",
       "65     0    0           0             0        0         0     0        0   \n",
       "1323   0    0           0             0        0         0     0        0   \n",
       "\n",
       "      aalyah  aamir  ...  zulu  zundel  zurg  zus  zweibel  zwick  zwigoff  \\\n",
       "1860       0      0  ...     0       0     0    0        0      0        0   \n",
       "353        0      0  ...     0       0     0    0        0      0        0   \n",
       "1333       0      0  ...     0       0     0    0        0      0        0   \n",
       "905        0      0  ...     0       0     0    0        0      0        0   \n",
       "1289       0      0  ...     0       0     0    0        0      0        0   \n",
       "1273       0      0  ...     0       0     0    0        0      0        0   \n",
       "938        0      0  ...     0       0     0    0        0      0        0   \n",
       "1731       0      0  ...     0       0     0    0        0      0        0   \n",
       "65         0      0  ...     0       0     0    0        0      0        0   \n",
       "1323       0      0  ...     0       0     0    0        0      0        0   \n",
       "\n",
       "      zycie  zzzzzzz  Movie Review  \n",
       "1860      0        0      Negative  \n",
       "353       0        0      Positive  \n",
       "1333      0        0      Negative  \n",
       "905       0        0      Positive  \n",
       "1289      0        0      Negative  \n",
       "1273      0        0      Negative  \n",
       "938       0        0      Positive  \n",
       "1731      0        0      Negative  \n",
       "65        0        0      Positive  \n",
       "1323      0        0      Negative  \n",
       "\n",
       "[10 rows x 38761 columns]"
      ]
     },
     "execution_count": 140,
     "metadata": {},
     "output_type": "execute_result"
    }
   ],
   "source": [
    "df_test.head(10)"
   ]
  },
  {
   "cell_type": "markdown",
   "id": "48232be6-0ede-4caa-b65e-afa47adbb4f4",
   "metadata": {},
   "source": [
    "#### Positive and Negative reviews in Training Dataset"
   ]
  },
  {
   "cell_type": "code",
   "execution_count": 142,
   "id": "0db4545e-676e-443b-a35b-df7308b8efcf",
   "metadata": {},
   "outputs": [
    {
     "name": "stdout",
     "output_type": "stream",
     "text": [
      "Number of positive reviews in training dataset  743\n",
      "Number of negative reviews in training dataset  757\n"
     ]
    }
   ],
   "source": [
    "df_train_Positive = df_train[df_train['Movie Review'] == 'Positive'] #Filtering training dataset with positive reviews\n",
    "df_train_Negative = df_train[df_train['Movie Review'] == 'Negative'] #Filtering training dataset with negative reviews\n",
    "\n",
    "# Display the number of positive and negative reviews in each dataset\n",
    "print(\"Number of positive reviews in training dataset \", len(df_train_Positive))\n",
    "print(\"Number of negative reviews in training dataset \", len(df_train_Negative)) \n"
   ]
  },
  {
   "cell_type": "markdown",
   "id": "897eb430-d503-4382-860c-e013454988b0",
   "metadata": {},
   "source": [
    "#### Positive and Negative reviews in Test Dataset"
   ]
  },
  {
   "cell_type": "code",
   "execution_count": 143,
   "id": "919edb01-1ab6-48f8-af95-3819550c6271",
   "metadata": {},
   "outputs": [
    {
     "name": "stdout",
     "output_type": "stream",
     "text": [
      "Number of positive reviews in test dataset  257\n",
      "Number of negative reviews in test dataset  243\n"
     ]
    }
   ],
   "source": [
    "df_test_Positive = df_test[df_test['Movie Review'] == 'Positive'] #Filtering test dataset with positive reviews\n",
    "df_test_Negative = df_test[df_test['Movie Review'] == 'Negative'] #Filtering test dataset with negative reviews\n",
    "\n",
    "# Display the number of positive and negative reviews in each dataset\n",
    "print(\"Number of positive reviews in test dataset \", len(df_test_Positive))\n",
    "print(\"Number of negative reviews in test dataset \", len(df_test_Negative)) "
   ]
  },
  {
   "cell_type": "markdown",
   "id": "7aaf6c79-0332-4606-bd1b-9b90bad71b89",
   "metadata": {},
   "source": [
    "* From the above count of positive and negative reviews in both training and test datasets, we can confirm that the positive and negative reviews appear to be relatively balanced within each of the training and test datasets.\n",
    "* This plays a vital role in model building in order to prevent skewing and overfitting.\n",
    "* The formed datasets are balanced and are ready for use in model building."
   ]
  },
  {
   "cell_type": "code",
   "execution_count": null,
   "id": "e5c74e83-b51c-4866-86dd-87d553439830",
   "metadata": {},
   "outputs": [],
   "source": []
  }
 ],
 "metadata": {
  "kernelspec": {
   "display_name": "Python 3 (ipykernel)",
   "language": "python",
   "name": "python3"
  },
  "language_info": {
   "codemirror_mode": {
    "name": "ipython",
    "version": 3
   },
   "file_extension": ".py",
   "mimetype": "text/x-python",
   "name": "python",
   "nbconvert_exporter": "python",
   "pygments_lexer": "ipython3",
   "version": "3.11.5"
  }
 },
 "nbformat": 4,
 "nbformat_minor": 5
}
